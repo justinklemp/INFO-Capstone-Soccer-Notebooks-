{
 "cells": [
  {
   "cell_type": "code",
   "execution_count": 27,
   "metadata": {},
   "outputs": [],
   "source": [
    "import pandas as pd\n",
    "import numpy as np\n",
    "import matplotlib.pyplot as plt\n",
    "import seaborn as sns\n",
    "import os\n",
    "from mpl_toolkits.mplot3d import Axes3D\n",
    "from sklearn.preprocessing import StandardScaler"
   ]
  },
  {
   "cell_type": "code",
   "execution_count": 3,
   "metadata": {},
   "outputs": [
    {
     "data": {
      "text/html": [
       "<div>\n",
       "<style scoped>\n",
       "    .dataframe tbody tr th:only-of-type {\n",
       "        vertical-align: middle;\n",
       "    }\n",
       "\n",
       "    .dataframe tbody tr th {\n",
       "        vertical-align: top;\n",
       "    }\n",
       "\n",
       "    .dataframe thead th {\n",
       "        text-align: right;\n",
       "    }\n",
       "</style>\n",
       "<table border=\"1\" class=\"dataframe\">\n",
       "  <thead>\n",
       "    <tr style=\"text-align: right;\">\n",
       "      <th></th>\n",
       "      <th>ID</th>\n",
       "      <th>lang</th>\n",
       "      <th>Date</th>\n",
       "      <th>Source</th>\n",
       "      <th>len</th>\n",
       "      <th>Orig_Tweet</th>\n",
       "      <th>Tweet</th>\n",
       "      <th>Likes</th>\n",
       "      <th>RTs</th>\n",
       "      <th>Hashtags</th>\n",
       "      <th>UserMentionNames</th>\n",
       "      <th>UserMentionID</th>\n",
       "      <th>Name</th>\n",
       "      <th>Place</th>\n",
       "      <th>Followers</th>\n",
       "      <th>Friends</th>\n",
       "    </tr>\n",
       "  </thead>\n",
       "  <tbody>\n",
       "    <tr>\n",
       "      <th>0</th>\n",
       "      <td>1013597060640145408</td>\n",
       "      <td>en</td>\n",
       "      <td>2018-07-02 01:35:45</td>\n",
       "      <td>Twitter for Android</td>\n",
       "      <td>140</td>\n",
       "      <td>RT @Squawka: Only two goalkeepers have saved t...</td>\n",
       "      <td>Only two goalkeepers have saved three penaltie...</td>\n",
       "      <td>0</td>\n",
       "      <td>477</td>\n",
       "      <td>WorldCup,POR,ENG</td>\n",
       "      <td>Squawka Football</td>\n",
       "      <td>Squawka</td>\n",
       "      <td>Cayleb</td>\n",
       "      <td>Accra</td>\n",
       "      <td>861</td>\n",
       "      <td>828</td>\n",
       "    </tr>\n",
       "    <tr>\n",
       "      <th>1</th>\n",
       "      <td>1013597056219295744</td>\n",
       "      <td>en</td>\n",
       "      <td>2018-07-02 01:35:44</td>\n",
       "      <td>Twitter for Android</td>\n",
       "      <td>139</td>\n",
       "      <td>RT @FCBarcelona: ?? @ivanrakitic scores the wi...</td>\n",
       "      <td>scores the winning penalty to send into the qu...</td>\n",
       "      <td>0</td>\n",
       "      <td>1031</td>\n",
       "      <td>WorldCup</td>\n",
       "      <td>FC Barcelona,Ivan Rakitic,HNS | CFF</td>\n",
       "      <td>FCBarcelona,ivanrakitic,HNS_CFF</td>\n",
       "      <td>Febri Aditya</td>\n",
       "      <td>Bogor</td>\n",
       "      <td>667</td>\n",
       "      <td>686</td>\n",
       "    </tr>\n",
       "    <tr>\n",
       "      <th>2</th>\n",
       "      <td>1013597047482544130</td>\n",
       "      <td>en</td>\n",
       "      <td>2018-07-02 01:35:42</td>\n",
       "      <td>Twitter for Android</td>\n",
       "      <td>107</td>\n",
       "      <td>RT @javierfernandez: Tonight we have big game....</td>\n",
       "      <td>Tonight we have big game</td>\n",
       "      <td>0</td>\n",
       "      <td>488</td>\n",
       "      <td>worldcup</td>\n",
       "      <td>Javier Fernandez,Evgeni Plushenko</td>\n",
       "      <td>javierfernandez,EvgeniPlushenko</td>\n",
       "      <td>??</td>\n",
       "      <td>NaN</td>\n",
       "      <td>65</td>\n",
       "      <td>67</td>\n",
       "    </tr>\n",
       "    <tr>\n",
       "      <th>3</th>\n",
       "      <td>1013597044198391808</td>\n",
       "      <td>en</td>\n",
       "      <td>2018-07-02 01:35:41</td>\n",
       "      <td>Twitter Web Client</td>\n",
       "      <td>142</td>\n",
       "      <td>We get stronger\\r\\nTurn the music up now\\r\\nWe...</td>\n",
       "      <td>We get stronger Turn the music up now We got t...</td>\n",
       "      <td>0</td>\n",
       "      <td>0</td>\n",
       "      <td>PowerByEXO,WorldCup,FIFAStadiumDJ,XiuminLeague</td>\n",
       "      <td>EXO,FIFA World Cup ?</td>\n",
       "      <td>weareoneEXO,FIFAWorldCup</td>\n",
       "      <td>Frida Carrillo</td>\n",
       "      <td>Zapopan, Jalisco</td>\n",
       "      <td>17</td>\n",
       "      <td>89</td>\n",
       "    </tr>\n",
       "    <tr>\n",
       "      <th>4</th>\n",
       "      <td>1013597039999926272</td>\n",
       "      <td>en</td>\n",
       "      <td>2018-07-02 01:35:40</td>\n",
       "      <td>Twitter for Android</td>\n",
       "      <td>140</td>\n",
       "      <td>RT @Squawka: Only two goalkeepers have saved t...</td>\n",
       "      <td>Only two goalkeepers have saved three penaltie...</td>\n",
       "      <td>0</td>\n",
       "      <td>477</td>\n",
       "      <td>WorldCup,POR,ENG</td>\n",
       "      <td>Squawka Football</td>\n",
       "      <td>Squawka</td>\n",
       "      <td>tar</td>\n",
       "      <td>NaN</td>\n",
       "      <td>137</td>\n",
       "      <td>216</td>\n",
       "    </tr>\n",
       "  </tbody>\n",
       "</table>\n",
       "</div>"
      ],
      "text/plain": [
       "                    ID lang                 Date               Source  len  \\\n",
       "0  1013597060640145408   en  2018-07-02 01:35:45  Twitter for Android  140   \n",
       "1  1013597056219295744   en  2018-07-02 01:35:44  Twitter for Android  139   \n",
       "2  1013597047482544130   en  2018-07-02 01:35:42  Twitter for Android  107   \n",
       "3  1013597044198391808   en  2018-07-02 01:35:41   Twitter Web Client  142   \n",
       "4  1013597039999926272   en  2018-07-02 01:35:40  Twitter for Android  140   \n",
       "\n",
       "                                          Orig_Tweet  \\\n",
       "0  RT @Squawka: Only two goalkeepers have saved t...   \n",
       "1  RT @FCBarcelona: ?? @ivanrakitic scores the wi...   \n",
       "2  RT @javierfernandez: Tonight we have big game....   \n",
       "3  We get stronger\\r\\nTurn the music up now\\r\\nWe...   \n",
       "4  RT @Squawka: Only two goalkeepers have saved t...   \n",
       "\n",
       "                                               Tweet  Likes   RTs  \\\n",
       "0  Only two goalkeepers have saved three penaltie...      0   477   \n",
       "1  scores the winning penalty to send into the qu...      0  1031   \n",
       "2                           Tonight we have big game      0   488   \n",
       "3  We get stronger Turn the music up now We got t...      0     0   \n",
       "4  Only two goalkeepers have saved three penaltie...      0   477   \n",
       "\n",
       "                                         Hashtags  \\\n",
       "0                                WorldCup,POR,ENG   \n",
       "1                                        WorldCup   \n",
       "2                                        worldcup   \n",
       "3  PowerByEXO,WorldCup,FIFAStadiumDJ,XiuminLeague   \n",
       "4                                WorldCup,POR,ENG   \n",
       "\n",
       "                      UserMentionNames                    UserMentionID  \\\n",
       "0                     Squawka Football                          Squawka   \n",
       "1  FC Barcelona,Ivan Rakitic,HNS | CFF  FCBarcelona,ivanrakitic,HNS_CFF   \n",
       "2    Javier Fernandez,Evgeni Plushenko  javierfernandez,EvgeniPlushenko   \n",
       "3                 EXO,FIFA World Cup ?         weareoneEXO,FIFAWorldCup   \n",
       "4                     Squawka Football                          Squawka   \n",
       "\n",
       "             Name             Place  Followers  Friends  \n",
       "0          Cayleb             Accra        861      828  \n",
       "1    Febri Aditya             Bogor        667      686  \n",
       "2              ??               NaN         65       67  \n",
       "3  Frida Carrillo  Zapopan, Jalisco         17       89  \n",
       "4             tar               NaN        137      216  "
      ]
     },
     "execution_count": 3,
     "metadata": {},
     "output_type": "execute_result"
    }
   ],
   "source": [
    "tweets= pd.read_csv(\"FIFA.csv\", encoding= \"latin-1\" )\n",
    "tweets.head()"
   ]
  },
  {
   "cell_type": "code",
   "execution_count": 4,
   "metadata": {},
   "outputs": [
    {
     "name": "stdout",
     "output_type": "stream",
     "text": [
      "[nltk_data] Downloading package vader_lexicon to\n",
      "[nltk_data]     C:\\Users\\Lucas\\AppData\\Roaming\\nltk_data...\n",
      "[nltk_data]   Package vader_lexicon is already up-to-date!\n"
     ]
    },
    {
     "data": {
      "text/plain": [
       "True"
      ]
     },
     "execution_count": 4,
     "metadata": {},
     "output_type": "execute_result"
    }
   ],
   "source": [
    "import nltk\n",
    "nltk.download('vader_lexicon')"
   ]
  },
  {
   "cell_type": "code",
   "execution_count": 5,
   "metadata": {},
   "outputs": [
    {
     "data": {
      "text/plain": [
       "ID                   int64\n",
       "lang                object\n",
       "Date                object\n",
       "Source              object\n",
       "len                  int64\n",
       "Orig_Tweet          object\n",
       "Tweet               object\n",
       "Likes                int64\n",
       "RTs                  int64\n",
       "Hashtags            object\n",
       "UserMentionNames    object\n",
       "UserMentionID       object\n",
       "Name                object\n",
       "Place               object\n",
       "Followers            int64\n",
       "Friends              int64\n",
       "dtype: object"
      ]
     },
     "execution_count": 5,
     "metadata": {},
     "output_type": "execute_result"
    }
   ],
   "source": [
    "tweets.dtypes"
   ]
  },
  {
   "cell_type": "code",
   "execution_count": 6,
   "metadata": {},
   "outputs": [],
   "source": [
    "tweets = tweets[pd.notnull(tweets['Tweet'])]"
   ]
  },
  {
   "cell_type": "code",
   "execution_count": 7,
   "metadata": {},
   "outputs": [
    {
     "name": "stderr",
     "output_type": "stream",
     "text": [
      "C:\\Users\\Lucas\\Anaconda3\\New folder\\lib\\site-packages\\nltk\\twitter\\__init__.py:20: UserWarning: The twython library has not been installed. Some functionality from the twitter package will not be available.\n",
      "  warnings.warn(\"The twython library has not been installed. \"\n"
     ]
    },
    {
     "data": {
      "text/html": [
       "<div>\n",
       "<style scoped>\n",
       "    .dataframe tbody tr th:only-of-type {\n",
       "        vertical-align: middle;\n",
       "    }\n",
       "\n",
       "    .dataframe tbody tr th {\n",
       "        vertical-align: top;\n",
       "    }\n",
       "\n",
       "    .dataframe thead th {\n",
       "        text-align: right;\n",
       "    }\n",
       "</style>\n",
       "<table border=\"1\" class=\"dataframe\">\n",
       "  <thead>\n",
       "    <tr style=\"text-align: right;\">\n",
       "      <th></th>\n",
       "      <th>ID</th>\n",
       "      <th>lang</th>\n",
       "      <th>Date</th>\n",
       "      <th>Source</th>\n",
       "      <th>len</th>\n",
       "      <th>Orig_Tweet</th>\n",
       "      <th>Tweet</th>\n",
       "      <th>Likes</th>\n",
       "      <th>RTs</th>\n",
       "      <th>Hashtags</th>\n",
       "      <th>...</th>\n",
       "      <th>UserMentionID</th>\n",
       "      <th>Name</th>\n",
       "      <th>Place</th>\n",
       "      <th>Followers</th>\n",
       "      <th>Friends</th>\n",
       "      <th>sentiment_compound_polarity</th>\n",
       "      <th>sentiment_neutral</th>\n",
       "      <th>sentiment_negative</th>\n",
       "      <th>sentiment_pos</th>\n",
       "      <th>sentiment_type</th>\n",
       "    </tr>\n",
       "  </thead>\n",
       "  <tbody>\n",
       "    <tr>\n",
       "      <th>0</th>\n",
       "      <td>1013597060640145408</td>\n",
       "      <td>en</td>\n",
       "      <td>2018-07-02 01:35:45</td>\n",
       "      <td>Twitter for Android</td>\n",
       "      <td>140</td>\n",
       "      <td>RT @Squawka: Only two goalkeepers have saved t...</td>\n",
       "      <td>Only two goalkeepers have saved three penaltie...</td>\n",
       "      <td>0</td>\n",
       "      <td>477</td>\n",
       "      <td>WorldCup,POR,ENG</td>\n",
       "      <td>...</td>\n",
       "      <td>Squawka</td>\n",
       "      <td>Cayleb</td>\n",
       "      <td>Accra</td>\n",
       "      <td>861</td>\n",
       "      <td>828</td>\n",
       "      <td>-0.3818</td>\n",
       "      <td>0.549</td>\n",
       "      <td>0.297</td>\n",
       "      <td>0.154</td>\n",
       "      <td>NEGATIVE</td>\n",
       "    </tr>\n",
       "    <tr>\n",
       "      <th>1</th>\n",
       "      <td>1013597056219295744</td>\n",
       "      <td>en</td>\n",
       "      <td>2018-07-02 01:35:44</td>\n",
       "      <td>Twitter for Android</td>\n",
       "      <td>139</td>\n",
       "      <td>RT @FCBarcelona: ?? @ivanrakitic scores the wi...</td>\n",
       "      <td>scores the winning penalty to send into the qu...</td>\n",
       "      <td>0</td>\n",
       "      <td>1031</td>\n",
       "      <td>WorldCup</td>\n",
       "      <td>...</td>\n",
       "      <td>FCBarcelona,ivanrakitic,HNS_CFF</td>\n",
       "      <td>Febri Aditya</td>\n",
       "      <td>Bogor</td>\n",
       "      <td>667</td>\n",
       "      <td>686</td>\n",
       "      <td>0.1027</td>\n",
       "      <td>0.670</td>\n",
       "      <td>0.155</td>\n",
       "      <td>0.175</td>\n",
       "      <td>POSITIVE</td>\n",
       "    </tr>\n",
       "    <tr>\n",
       "      <th>2</th>\n",
       "      <td>1013597047482544130</td>\n",
       "      <td>en</td>\n",
       "      <td>2018-07-02 01:35:42</td>\n",
       "      <td>Twitter for Android</td>\n",
       "      <td>107</td>\n",
       "      <td>RT @javierfernandez: Tonight we have big game....</td>\n",
       "      <td>Tonight we have big game</td>\n",
       "      <td>0</td>\n",
       "      <td>488</td>\n",
       "      <td>worldcup</td>\n",
       "      <td>...</td>\n",
       "      <td>javierfernandez,EvgeniPlushenko</td>\n",
       "      <td>??</td>\n",
       "      <td>NaN</td>\n",
       "      <td>65</td>\n",
       "      <td>67</td>\n",
       "      <td>0.0000</td>\n",
       "      <td>1.000</td>\n",
       "      <td>0.000</td>\n",
       "      <td>0.000</td>\n",
       "      <td>NEUTRAL</td>\n",
       "    </tr>\n",
       "    <tr>\n",
       "      <th>3</th>\n",
       "      <td>1013597044198391808</td>\n",
       "      <td>en</td>\n",
       "      <td>2018-07-02 01:35:41</td>\n",
       "      <td>Twitter Web Client</td>\n",
       "      <td>142</td>\n",
       "      <td>We get stronger\\r\\nTurn the music up now\\r\\nWe...</td>\n",
       "      <td>We get stronger Turn the music up now We got t...</td>\n",
       "      <td>0</td>\n",
       "      <td>0</td>\n",
       "      <td>PowerByEXO,WorldCup,FIFAStadiumDJ,XiuminLeague</td>\n",
       "      <td>...</td>\n",
       "      <td>weareoneEXO,FIFAWorldCup</td>\n",
       "      <td>Frida Carrillo</td>\n",
       "      <td>Zapopan, Jalisco</td>\n",
       "      <td>17</td>\n",
       "      <td>89</td>\n",
       "      <td>0.3818</td>\n",
       "      <td>0.822</td>\n",
       "      <td>0.000</td>\n",
       "      <td>0.178</td>\n",
       "      <td>POSITIVE</td>\n",
       "    </tr>\n",
       "    <tr>\n",
       "      <th>4</th>\n",
       "      <td>1013597039999926272</td>\n",
       "      <td>en</td>\n",
       "      <td>2018-07-02 01:35:40</td>\n",
       "      <td>Twitter for Android</td>\n",
       "      <td>140</td>\n",
       "      <td>RT @Squawka: Only two goalkeepers have saved t...</td>\n",
       "      <td>Only two goalkeepers have saved three penaltie...</td>\n",
       "      <td>0</td>\n",
       "      <td>477</td>\n",
       "      <td>WorldCup,POR,ENG</td>\n",
       "      <td>...</td>\n",
       "      <td>Squawka</td>\n",
       "      <td>tar</td>\n",
       "      <td>NaN</td>\n",
       "      <td>137</td>\n",
       "      <td>216</td>\n",
       "      <td>-0.3818</td>\n",
       "      <td>0.549</td>\n",
       "      <td>0.297</td>\n",
       "      <td>0.154</td>\n",
       "      <td>NEGATIVE</td>\n",
       "    </tr>\n",
       "  </tbody>\n",
       "</table>\n",
       "<p>5 rows × 21 columns</p>\n",
       "</div>"
      ],
      "text/plain": [
       "                    ID lang                 Date               Source  len  \\\n",
       "0  1013597060640145408   en  2018-07-02 01:35:45  Twitter for Android  140   \n",
       "1  1013597056219295744   en  2018-07-02 01:35:44  Twitter for Android  139   \n",
       "2  1013597047482544130   en  2018-07-02 01:35:42  Twitter for Android  107   \n",
       "3  1013597044198391808   en  2018-07-02 01:35:41   Twitter Web Client  142   \n",
       "4  1013597039999926272   en  2018-07-02 01:35:40  Twitter for Android  140   \n",
       "\n",
       "                                          Orig_Tweet  \\\n",
       "0  RT @Squawka: Only two goalkeepers have saved t...   \n",
       "1  RT @FCBarcelona: ?? @ivanrakitic scores the wi...   \n",
       "2  RT @javierfernandez: Tonight we have big game....   \n",
       "3  We get stronger\\r\\nTurn the music up now\\r\\nWe...   \n",
       "4  RT @Squawka: Only two goalkeepers have saved t...   \n",
       "\n",
       "                                               Tweet  Likes   RTs  \\\n",
       "0  Only two goalkeepers have saved three penaltie...      0   477   \n",
       "1  scores the winning penalty to send into the qu...      0  1031   \n",
       "2                           Tonight we have big game      0   488   \n",
       "3  We get stronger Turn the music up now We got t...      0     0   \n",
       "4  Only two goalkeepers have saved three penaltie...      0   477   \n",
       "\n",
       "                                         Hashtags       ...        \\\n",
       "0                                WorldCup,POR,ENG       ...         \n",
       "1                                        WorldCup       ...         \n",
       "2                                        worldcup       ...         \n",
       "3  PowerByEXO,WorldCup,FIFAStadiumDJ,XiuminLeague       ...         \n",
       "4                                WorldCup,POR,ENG       ...         \n",
       "\n",
       "                     UserMentionID            Name             Place  \\\n",
       "0                          Squawka          Cayleb             Accra   \n",
       "1  FCBarcelona,ivanrakitic,HNS_CFF    Febri Aditya             Bogor   \n",
       "2  javierfernandez,EvgeniPlushenko              ??               NaN   \n",
       "3         weareoneEXO,FIFAWorldCup  Frida Carrillo  Zapopan, Jalisco   \n",
       "4                          Squawka             tar               NaN   \n",
       "\n",
       "  Followers  Friends  sentiment_compound_polarity  sentiment_neutral  \\\n",
       "0       861      828                      -0.3818              0.549   \n",
       "1       667      686                       0.1027              0.670   \n",
       "2        65       67                       0.0000              1.000   \n",
       "3        17       89                       0.3818              0.822   \n",
       "4       137      216                      -0.3818              0.549   \n",
       "\n",
       "   sentiment_negative  sentiment_pos  sentiment_type  \n",
       "0               0.297          0.154        NEGATIVE  \n",
       "1               0.155          0.175        POSITIVE  \n",
       "2               0.000          0.000         NEUTRAL  \n",
       "3               0.000          0.178        POSITIVE  \n",
       "4               0.297          0.154        NEGATIVE  \n",
       "\n",
       "[5 rows x 21 columns]"
      ]
     },
     "execution_count": 7,
     "metadata": {},
     "output_type": "execute_result"
    }
   ],
   "source": [
    "from nltk.sentiment.vader import SentimentIntensityAnalyzer\n",
    "from nltk.sentiment.util import *\n",
    "\n",
    "from nltk import tokenize\n",
    "\n",
    "sid = SentimentIntensityAnalyzer()\n",
    "\n",
    "tweets['sentiment_compound_polarity']=tweets.Tweet.apply(lambda x:sid.polarity_scores(x)['compound'])\n",
    "tweets['sentiment_neutral']=tweets.Tweet.apply(lambda x:sid.polarity_scores(x)['neu'])\n",
    "tweets['sentiment_negative']=tweets.Tweet.apply(lambda x:sid.polarity_scores(x)['neg'])\n",
    "tweets['sentiment_pos']=tweets.Tweet.apply(lambda x:sid.polarity_scores(x)['pos'])\n",
    "tweets['sentiment_type']=''\n",
    "\n",
    "tweets.loc[tweets.sentiment_compound_polarity>0,'sentiment_type']='POSITIVE'\n",
    "tweets.loc[tweets.sentiment_compound_polarity==0,'sentiment_type']='NEUTRAL'\n",
    "tweets.loc[tweets.sentiment_compound_polarity<0,'sentiment_type']='NEGATIVE'\n",
    "tweets.head()"
   ]
  },
  {
   "cell_type": "code",
   "execution_count": 31,
   "metadata": {},
   "outputs": [
    {
     "data": {
      "text/html": [
       "<div>\n",
       "<style scoped>\n",
       "    .dataframe tbody tr th:only-of-type {\n",
       "        vertical-align: middle;\n",
       "    }\n",
       "\n",
       "    .dataframe tbody tr th {\n",
       "        vertical-align: top;\n",
       "    }\n",
       "\n",
       "    .dataframe thead th {\n",
       "        text-align: right;\n",
       "    }\n",
       "</style>\n",
       "<table border=\"1\" class=\"dataframe\">\n",
       "  <thead>\n",
       "    <tr style=\"text-align: right;\">\n",
       "      <th></th>\n",
       "      <th>ID</th>\n",
       "      <th>lang</th>\n",
       "      <th>Date</th>\n",
       "      <th>Source</th>\n",
       "      <th>len</th>\n",
       "      <th>Orig_Tweet</th>\n",
       "      <th>Tweet</th>\n",
       "      <th>Likes</th>\n",
       "      <th>RTs</th>\n",
       "      <th>Hashtags</th>\n",
       "      <th>...</th>\n",
       "      <th>Name</th>\n",
       "      <th>Place</th>\n",
       "      <th>Followers</th>\n",
       "      <th>Friends</th>\n",
       "      <th>sentiment_compound_polarity</th>\n",
       "      <th>sentiment_neutral</th>\n",
       "      <th>sentiment_negative</th>\n",
       "      <th>sentiment_pos</th>\n",
       "      <th>sentiment_type</th>\n",
       "      <th>word count</th>\n",
       "    </tr>\n",
       "  </thead>\n",
       "  <tbody>\n",
       "    <tr>\n",
       "      <th>0</th>\n",
       "      <td>1013597060640145408</td>\n",
       "      <td>en</td>\n",
       "      <td>2018-07-02 01:35:45</td>\n",
       "      <td>Twitter for Android</td>\n",
       "      <td>140</td>\n",
       "      <td>RT @Squawka: Only two goalkeepers have saved t...</td>\n",
       "      <td>Only two goalkeepers have saved three penaltie...</td>\n",
       "      <td>0</td>\n",
       "      <td>477</td>\n",
       "      <td>WorldCup,POR,ENG</td>\n",
       "      <td>...</td>\n",
       "      <td>Cayleb</td>\n",
       "      <td>Accra</td>\n",
       "      <td>861</td>\n",
       "      <td>828</td>\n",
       "      <td>-0.3818</td>\n",
       "      <td>0.549</td>\n",
       "      <td>0.297</td>\n",
       "      <td>0.154</td>\n",
       "      <td>NEGATIVE</td>\n",
       "      <td>13</td>\n",
       "    </tr>\n",
       "    <tr>\n",
       "      <th>1</th>\n",
       "      <td>1013597056219295744</td>\n",
       "      <td>en</td>\n",
       "      <td>2018-07-02 01:35:44</td>\n",
       "      <td>Twitter for Android</td>\n",
       "      <td>139</td>\n",
       "      <td>RT @FCBarcelona: ?? @ivanrakitic scores the wi...</td>\n",
       "      <td>scores the winning penalty to send into the qu...</td>\n",
       "      <td>0</td>\n",
       "      <td>1031</td>\n",
       "      <td>WorldCup</td>\n",
       "      <td>...</td>\n",
       "      <td>Febri Aditya</td>\n",
       "      <td>Bogor</td>\n",
       "      <td>667</td>\n",
       "      <td>686</td>\n",
       "      <td>0.1027</td>\n",
       "      <td>0.670</td>\n",
       "      <td>0.155</td>\n",
       "      <td>0.175</td>\n",
       "      <td>POSITIVE</td>\n",
       "      <td>15</td>\n",
       "    </tr>\n",
       "    <tr>\n",
       "      <th>2</th>\n",
       "      <td>1013597047482544130</td>\n",
       "      <td>en</td>\n",
       "      <td>2018-07-02 01:35:42</td>\n",
       "      <td>Twitter for Android</td>\n",
       "      <td>107</td>\n",
       "      <td>RT @javierfernandez: Tonight we have big game....</td>\n",
       "      <td>Tonight we have big game</td>\n",
       "      <td>0</td>\n",
       "      <td>488</td>\n",
       "      <td>worldcup</td>\n",
       "      <td>...</td>\n",
       "      <td>??</td>\n",
       "      <td>NaN</td>\n",
       "      <td>65</td>\n",
       "      <td>67</td>\n",
       "      <td>0.0000</td>\n",
       "      <td>1.000</td>\n",
       "      <td>0.000</td>\n",
       "      <td>0.000</td>\n",
       "      <td>NEUTRAL</td>\n",
       "      <td>5</td>\n",
       "    </tr>\n",
       "  </tbody>\n",
       "</table>\n",
       "<p>3 rows × 22 columns</p>\n",
       "</div>"
      ],
      "text/plain": [
       "                    ID lang                 Date               Source  len  \\\n",
       "0  1013597060640145408   en  2018-07-02 01:35:45  Twitter for Android  140   \n",
       "1  1013597056219295744   en  2018-07-02 01:35:44  Twitter for Android  139   \n",
       "2  1013597047482544130   en  2018-07-02 01:35:42  Twitter for Android  107   \n",
       "\n",
       "                                          Orig_Tweet  \\\n",
       "0  RT @Squawka: Only two goalkeepers have saved t...   \n",
       "1  RT @FCBarcelona: ?? @ivanrakitic scores the wi...   \n",
       "2  RT @javierfernandez: Tonight we have big game....   \n",
       "\n",
       "                                               Tweet  Likes   RTs  \\\n",
       "0  Only two goalkeepers have saved three penaltie...      0   477   \n",
       "1  scores the winning penalty to send into the qu...      0  1031   \n",
       "2                           Tonight we have big game      0   488   \n",
       "\n",
       "           Hashtags     ...              Name  Place Followers Friends  \\\n",
       "0  WorldCup,POR,ENG     ...            Cayleb  Accra       861     828   \n",
       "1          WorldCup     ...      Febri Aditya  Bogor       667     686   \n",
       "2          worldcup     ...                ??    NaN        65      67   \n",
       "\n",
       "   sentiment_compound_polarity  sentiment_neutral  sentiment_negative  \\\n",
       "0                      -0.3818              0.549               0.297   \n",
       "1                       0.1027              0.670               0.155   \n",
       "2                       0.0000              1.000               0.000   \n",
       "\n",
       "   sentiment_pos  sentiment_type  word count  \n",
       "0          0.154        NEGATIVE          13  \n",
       "1          0.175        POSITIVE          15  \n",
       "2          0.000         NEUTRAL           5  \n",
       "\n",
       "[3 rows x 22 columns]"
      ]
     },
     "execution_count": 31,
     "metadata": {},
     "output_type": "execute_result"
    }
   ],
   "source": [
    "def word_count(sentence):\n",
    "    return len(sentence.split())\n",
    "    \n",
    "tweets['word count'] = tweets['Tweet'].apply(word_count)\n",
    "tweets.head(3)"
   ]
  },
  {
   "cell_type": "code",
   "execution_count": 39,
   "metadata": {},
   "outputs": [],
   "source": [
    "tweets['Place'] = tweets['Place'].str.replace(\"[^a-zA-Z#]\", \" \")\n",
    "tweets['UserMentionNames'] = tweets['UserMentionNames'].str.replace(\"[^a-zA-Z#]\", \" \")\n"
   ]
  },
  {
   "cell_type": "code",
   "execution_count": null,
   "metadata": {},
   "outputs": [],
   "source": []
  },
  {
   "cell_type": "code",
   "execution_count": 40,
   "metadata": {},
   "outputs": [
    {
     "data": {
      "text/plain": [
       "<matplotlib.axes._subplots.AxesSubplot at 0x20739efeb70>"
      ]
     },
     "execution_count": 40,
     "metadata": {},
     "output_type": "execute_result"
    },
    {
     "data": {
      "image/png": "[encoded data removed]",
      "text/plain": [
       "<Figure size 432x288 with 1 Axes>"
      ]
     },
     "metadata": {
      "needs_background": "light"
     },
     "output_type": "display_data"
    }
   ],
   "source": [
    "tweets.sentiment_type.value_counts().plot(kind='bar',title=\"sentiment analysis\")"
   ]
  },
  {
   "cell_type": "code",
   "execution_count": 41,
   "metadata": {},
   "outputs": [],
   "source": [
    "tweets_filter1=tweets[['Tweet','UserMentionID','Place','sentiment_compound_polarity', 'sentiment_type','Followers','Friends','RTs',]] "
   ]
  },
  {
   "cell_type": "code",
   "execution_count": 42,
   "metadata": {},
   "outputs": [],
   "source": [
    "tweets_filter1 = tweets_filter1[pd.notnull(tweets_filter1['UserMentionID'])]"
   ]
  },
  {
   "cell_type": "code",
   "execution_count": 46,
   "metadata": {},
   "outputs": [
    {
     "data": {
      "text/html": [
       "<div>\n",
       "<style scoped>\n",
       "    .dataframe tbody tr th:only-of-type {\n",
       "        vertical-align: middle;\n",
       "    }\n",
       "\n",
       "    .dataframe tbody tr th {\n",
       "        vertical-align: top;\n",
       "    }\n",
       "\n",
       "    .dataframe thead th {\n",
       "        text-align: right;\n",
       "    }\n",
       "</style>\n",
       "<table border=\"1\" class=\"dataframe\">\n",
       "  <thead>\n",
       "    <tr style=\"text-align: right;\">\n",
       "      <th></th>\n",
       "      <th>Tweet</th>\n",
       "      <th>UserMentionID</th>\n",
       "      <th>Place</th>\n",
       "      <th>sentiment_compound_polarity</th>\n",
       "      <th>sentiment_type</th>\n",
       "      <th>Followers</th>\n",
       "      <th>Friends</th>\n",
       "      <th>RTs</th>\n",
       "    </tr>\n",
       "  </thead>\n",
       "  <tbody>\n",
       "    <tr>\n",
       "      <th>0</th>\n",
       "      <td>Only two goalkeepers have saved three penaltie...</td>\n",
       "      <td>Squawka</td>\n",
       "      <td>Accra</td>\n",
       "      <td>-0.3818</td>\n",
       "      <td>NEGATIVE</td>\n",
       "      <td>861</td>\n",
       "      <td>828</td>\n",
       "      <td>477</td>\n",
       "    </tr>\n",
       "    <tr>\n",
       "      <th>1</th>\n",
       "      <td>scores the winning penalty to send into the qu...</td>\n",
       "      <td>FCBarcelona,ivanrakitic,HNS_CFF</td>\n",
       "      <td>Bogor</td>\n",
       "      <td>0.1027</td>\n",
       "      <td>POSITIVE</td>\n",
       "      <td>667</td>\n",
       "      <td>686</td>\n",
       "      <td>1031</td>\n",
       "    </tr>\n",
       "    <tr>\n",
       "      <th>2</th>\n",
       "      <td>Tonight we have big game</td>\n",
       "      <td>javierfernandez,EvgeniPlushenko</td>\n",
       "      <td>NaN</td>\n",
       "      <td>0.0000</td>\n",
       "      <td>NEUTRAL</td>\n",
       "      <td>65</td>\n",
       "      <td>67</td>\n",
       "      <td>488</td>\n",
       "    </tr>\n",
       "    <tr>\n",
       "      <th>3</th>\n",
       "      <td>We get stronger Turn the music up now We got t...</td>\n",
       "      <td>weareoneEXO,FIFAWorldCup</td>\n",
       "      <td>Zapopan  Jalisco</td>\n",
       "      <td>0.3818</td>\n",
       "      <td>POSITIVE</td>\n",
       "      <td>17</td>\n",
       "      <td>89</td>\n",
       "      <td>0</td>\n",
       "    </tr>\n",
       "    <tr>\n",
       "      <th>4</th>\n",
       "      <td>Only two goalkeepers have saved three penaltie...</td>\n",
       "      <td>Squawka</td>\n",
       "      <td>NaN</td>\n",
       "      <td>-0.3818</td>\n",
       "      <td>NEGATIVE</td>\n",
       "      <td>137</td>\n",
       "      <td>216</td>\n",
       "      <td>477</td>\n",
       "    </tr>\n",
       "  </tbody>\n",
       "</table>\n",
       "</div>"
      ],
      "text/plain": [
       "                                               Tweet  \\\n",
       "0  Only two goalkeepers have saved three penaltie...   \n",
       "1  scores the winning penalty to send into the qu...   \n",
       "2                           Tonight we have big game   \n",
       "3  We get stronger Turn the music up now We got t...   \n",
       "4  Only two goalkeepers have saved three penaltie...   \n",
       "\n",
       "                     UserMentionID             Place  \\\n",
       "0                          Squawka             Accra   \n",
       "1  FCBarcelona,ivanrakitic,HNS_CFF             Bogor   \n",
       "2  javierfernandez,EvgeniPlushenko               NaN   \n",
       "3         weareoneEXO,FIFAWorldCup  Zapopan  Jalisco   \n",
       "4                          Squawka               NaN   \n",
       "\n",
       "   sentiment_compound_polarity sentiment_type  Followers  Friends   RTs  \n",
       "0                      -0.3818       NEGATIVE        861      828   477  \n",
       "1                       0.1027       POSITIVE        667      686  1031  \n",
       "2                       0.0000        NEUTRAL         65       67   488  \n",
       "3                       0.3818       POSITIVE         17       89     0  \n",
       "4                      -0.3818       NEGATIVE        137      216   477  "
      ]
     },
     "execution_count": 46,
     "metadata": {},
     "output_type": "execute_result"
    }
   ],
   "source": [
    "tweets_filter1.head()"
   ]
  },
  {
   "cell_type": "code",
   "execution_count": 48,
   "metadata": {},
   "outputs": [
    {
     "data": {
      "text/html": [
       "<div>\n",
       "<style scoped>\n",
       "    .dataframe tbody tr th:only-of-type {\n",
       "        vertical-align: middle;\n",
       "    }\n",
       "\n",
       "    .dataframe tbody tr th {\n",
       "        vertical-align: top;\n",
       "    }\n",
       "\n",
       "    .dataframe thead tr th {\n",
       "        text-align: left;\n",
       "    }\n",
       "\n",
       "    .dataframe thead tr:last-of-type th {\n",
       "        text-align: right;\n",
       "    }\n",
       "</style>\n",
       "<table border=\"1\" class=\"dataframe\">\n",
       "  <thead>\n",
       "    <tr>\n",
       "      <th></th>\n",
       "      <th colspan=\"8\" halign=\"left\">Followers</th>\n",
       "      <th colspan=\"2\" halign=\"left\">Friends</th>\n",
       "      <th>...</th>\n",
       "      <th colspan=\"2\" halign=\"left\">RTs</th>\n",
       "      <th colspan=\"8\" halign=\"left\">sentiment_compound_polarity</th>\n",
       "    </tr>\n",
       "    <tr>\n",
       "      <th></th>\n",
       "      <th>count</th>\n",
       "      <th>mean</th>\n",
       "      <th>std</th>\n",
       "      <th>min</th>\n",
       "      <th>25%</th>\n",
       "      <th>50%</th>\n",
       "      <th>75%</th>\n",
       "      <th>max</th>\n",
       "      <th>count</th>\n",
       "      <th>mean</th>\n",
       "      <th>...</th>\n",
       "      <th>75%</th>\n",
       "      <th>max</th>\n",
       "      <th>count</th>\n",
       "      <th>mean</th>\n",
       "      <th>std</th>\n",
       "      <th>min</th>\n",
       "      <th>25%</th>\n",
       "      <th>50%</th>\n",
       "      <th>75%</th>\n",
       "      <th>max</th>\n",
       "    </tr>\n",
       "    <tr>\n",
       "      <th>Place</th>\n",
       "      <th></th>\n",
       "      <th></th>\n",
       "      <th></th>\n",
       "      <th></th>\n",
       "      <th></th>\n",
       "      <th></th>\n",
       "      <th></th>\n",
       "      <th></th>\n",
       "      <th></th>\n",
       "      <th></th>\n",
       "      <th></th>\n",
       "      <th></th>\n",
       "      <th></th>\n",
       "      <th></th>\n",
       "      <th></th>\n",
       "      <th></th>\n",
       "      <th></th>\n",
       "      <th></th>\n",
       "      <th></th>\n",
       "      <th></th>\n",
       "      <th></th>\n",
       "    </tr>\n",
       "  </thead>\n",
       "  <tbody>\n",
       "    <tr>\n",
       "      <th></th>\n",
       "      <td>877.0</td>\n",
       "      <td>1876.587229</td>\n",
       "      <td>3568.836096</td>\n",
       "      <td>1.0</td>\n",
       "      <td>240.0</td>\n",
       "      <td>521.0</td>\n",
       "      <td>1424.0</td>\n",
       "      <td>26426.0</td>\n",
       "      <td>877.0</td>\n",
       "      <td>1638.864310</td>\n",
       "      <td>...</td>\n",
       "      <td>4374.00</td>\n",
       "      <td>96660.0</td>\n",
       "      <td>877.0</td>\n",
       "      <td>0.225843</td>\n",
       "      <td>0.390910</td>\n",
       "      <td>-0.8807</td>\n",
       "      <td>0.0</td>\n",
       "      <td>0.0516</td>\n",
       "      <td>0.5719</td>\n",
       "      <td>0.9584</td>\n",
       "    </tr>\n",
       "    <tr>\n",
       "      <th></th>\n",
       "      <td>1979.0</td>\n",
       "      <td>2073.119757</td>\n",
       "      <td>32868.042679</td>\n",
       "      <td>0.0</td>\n",
       "      <td>158.0</td>\n",
       "      <td>378.0</td>\n",
       "      <td>1054.0</td>\n",
       "      <td>1453841.0</td>\n",
       "      <td>1979.0</td>\n",
       "      <td>1074.327943</td>\n",
       "      <td>...</td>\n",
       "      <td>6422.50</td>\n",
       "      <td>96686.0</td>\n",
       "      <td>1979.0</td>\n",
       "      <td>0.301317</td>\n",
       "      <td>0.372846</td>\n",
       "      <td>-0.8779</td>\n",
       "      <td>0.0</td>\n",
       "      <td>0.3612</td>\n",
       "      <td>0.5719</td>\n",
       "      <td>0.9584</td>\n",
       "    </tr>\n",
       "    <tr>\n",
       "      <th></th>\n",
       "      <td>1498.0</td>\n",
       "      <td>1034.203605</td>\n",
       "      <td>3313.835277</td>\n",
       "      <td>2.0</td>\n",
       "      <td>191.0</td>\n",
       "      <td>441.0</td>\n",
       "      <td>887.0</td>\n",
       "      <td>77250.0</td>\n",
       "      <td>1498.0</td>\n",
       "      <td>824.681575</td>\n",
       "      <td>...</td>\n",
       "      <td>6962.75</td>\n",
       "      <td>96702.0</td>\n",
       "      <td>1498.0</td>\n",
       "      <td>0.267111</td>\n",
       "      <td>0.372916</td>\n",
       "      <td>-0.8658</td>\n",
       "      <td>0.0</td>\n",
       "      <td>0.2732</td>\n",
       "      <td>0.5719</td>\n",
       "      <td>0.9876</td>\n",
       "    </tr>\n",
       "    <tr>\n",
       "      <th></th>\n",
       "      <td>1136.0</td>\n",
       "      <td>1475.437500</td>\n",
       "      <td>3470.432963</td>\n",
       "      <td>0.0</td>\n",
       "      <td>183.0</td>\n",
       "      <td>541.0</td>\n",
       "      <td>1380.0</td>\n",
       "      <td>47563.0</td>\n",
       "      <td>1136.0</td>\n",
       "      <td>810.450704</td>\n",
       "      <td>...</td>\n",
       "      <td>5203.50</td>\n",
       "      <td>96712.0</td>\n",
       "      <td>1136.0</td>\n",
       "      <td>0.256319</td>\n",
       "      <td>0.376483</td>\n",
       "      <td>-0.8658</td>\n",
       "      <td>0.0</td>\n",
       "      <td>0.2023</td>\n",
       "      <td>0.5719</td>\n",
       "      <td>0.9584</td>\n",
       "    </tr>\n",
       "    <tr>\n",
       "      <th></th>\n",
       "      <td>995.0</td>\n",
       "      <td>1845.584925</td>\n",
       "      <td>20535.201211</td>\n",
       "      <td>0.0</td>\n",
       "      <td>129.5</td>\n",
       "      <td>388.0</td>\n",
       "      <td>830.0</td>\n",
       "      <td>595797.0</td>\n",
       "      <td>995.0</td>\n",
       "      <td>801.453266</td>\n",
       "      <td>...</td>\n",
       "      <td>5765.00</td>\n",
       "      <td>96609.0</td>\n",
       "      <td>995.0</td>\n",
       "      <td>0.290605</td>\n",
       "      <td>0.365506</td>\n",
       "      <td>-0.9068</td>\n",
       "      <td>0.0</td>\n",
       "      <td>0.3400</td>\n",
       "      <td>0.5719</td>\n",
       "      <td>0.9590</td>\n",
       "    </tr>\n",
       "  </tbody>\n",
       "</table>\n",
       "<p>5 rows × 32 columns</p>\n",
       "</div>"
      ],
      "text/plain": [
       "      Followers                                                        \\\n",
       "          count         mean           std  min    25%    50%     75%   \n",
       "Place                                                                   \n",
       "          877.0  1876.587229   3568.836096  1.0  240.0  521.0  1424.0   \n",
       "         1979.0  2073.119757  32868.042679  0.0  158.0  378.0  1054.0   \n",
       "         1498.0  1034.203605   3313.835277  2.0  191.0  441.0   887.0   \n",
       "         1136.0  1475.437500   3470.432963  0.0  183.0  541.0  1380.0   \n",
       "          995.0  1845.584925  20535.201211  0.0  129.5  388.0   830.0   \n",
       "\n",
       "                 Friends                ...        RTs           \\\n",
       "             max   count         mean   ...        75%      max   \n",
       "Place                                   ...                       \n",
       "         26426.0   877.0  1638.864310   ...    4374.00  96660.0   \n",
       "       1453841.0  1979.0  1074.327943   ...    6422.50  96686.0   \n",
       "         77250.0  1498.0   824.681575   ...    6962.75  96702.0   \n",
       "         47563.0  1136.0   810.450704   ...    5203.50  96712.0   \n",
       "        595797.0   995.0   801.453266   ...    5765.00  96609.0   \n",
       "\n",
       "      sentiment_compound_polarity                                           \\\n",
       "                            count      mean       std     min  25%     50%   \n",
       "Place                                                                        \n",
       "                            877.0  0.225843  0.390910 -0.8807  0.0  0.0516   \n",
       "                           1979.0  0.301317  0.372846 -0.8779  0.0  0.3612   \n",
       "                           1498.0  0.267111  0.372916 -0.8658  0.0  0.2732   \n",
       "                           1136.0  0.256319  0.376483 -0.8658  0.0  0.2023   \n",
       "                            995.0  0.290605  0.365506 -0.9068  0.0  0.3400   \n",
       "\n",
       "                       \n",
       "          75%     max  \n",
       "Place                  \n",
       "       0.5719  0.9584  \n",
       "       0.5719  0.9584  \n",
       "       0.5719  0.9876  \n",
       "       0.5719  0.9584  \n",
       "       0.5719  0.9590  \n",
       "\n",
       "[5 rows x 32 columns]"
      ]
     },
     "execution_count": 48,
     "metadata": {},
     "output_type": "execute_result"
    }
   ],
   "source": [
    "tweets_filter1[[\"Place\", \"sentiment_compound_polarity\"]]\n",
    "\n",
    "country = tweets_filter1.groupby(\"Place\")\n",
    "\n",
    "# Summary statistic of all countries\n",
    "country.describe().head()\n"
   ]
  },
  {
   "cell_type": "code",
   "execution_count": 62,
   "metadata": {},
   "outputs": [
    {
     "name": "stdout",
     "output_type": "stream",
     "text": [
      "2018-06-29 23:56:26 2018-07-15 23:14:46\n"
     ]
    }
   ],
   "source": [
    "#print(tweets_filter1[tweets_filter1.sentiment_compound_polarity == tweets_filter1.sentiment_compound_polarity.max()]) \n",
    "#print(tweets_filter1[tweets_filter1.sentiment_compound_polarity == tweets_filter1.sentiment_compound_polarity.min()]) \n",
    "tweets['Date'] = pd.to_datetime(tweets['Date'])\n",
    "start_date_tweet = tweets['Date'].min()\n",
    "end_date_tweet = tweets['Date'].max()\n",
    "\n",
    "print(start_date_tweet, end_date_tweet)\n"
   ]
  },
  {
   "cell_type": "code",
   "execution_count": 63,
   "metadata": {},
   "outputs": [],
   "source": [
    "tweets['created_str_date'] = pd.to_datetime(tweets['Date'].dt.date)\n"
   ]
  },
  {
   "cell_type": "code",
   "execution_count": 64,
   "metadata": {},
   "outputs": [],
   "source": [
    "# Count the number of times a date appears in the dataset and convert to dataframe\n",
    "tweet_trend = pd.DataFrame(tweets['created_str_date'].value_counts())\n",
    "\n",
    "# index is date, columns indicate tweet count on that day\n",
    "tweet_trend.columns = ['tweet_count']\n",
    "\n",
    "# sort the dataframe by the dates to have them in order\n",
    "tweet_trend.sort_index(ascending = True, inplace = True)\n"
   ]
  },
  {
   "cell_type": "markdown",
   "metadata": {},
   "source": [
    "# Tweet counts by date"
   ]
  },
  {
   "cell_type": "code",
   "execution_count": 65,
   "metadata": {},
   "outputs": [
    {
     "data": {
      "text/plain": [
       "Text(0,0.5,'Tweet Count')"
      ]
     },
     "execution_count": 65,
     "metadata": {},
     "output_type": "execute_result"
    },
    {
     "data": {
      "image/png": "[encoded data removed]",
      "text/plain": [
       "<Figure size 864x576 with 1 Axes>"
      ]
     },
     "metadata": {},
     "output_type": "display_data"
    }
   ],
   "source": [
    "# make a line plot of the tweet count data and give some pretty labels! ;)\n",
    "# the 'rot' argument control x-axis ticks rotation\n",
    "plt.style.use('seaborn-darkgrid')\n",
    "tweet_trend['tweet_count'].plot(linestyle = \"-\", figsize = (12,8), rot = 45, color = 'k',\n",
    "                               linewidth = 1)\n",
    "plt.title('Tweet counts by date', fontsize = 15)\n",
    "plt.xlabel('Date', fontsize = 13)\n",
    "plt.ylabel('Tweet Count', fontsize = 13)"
   ]
  },
  {
   "cell_type": "code",
   "execution_count": 67,
   "metadata": {},
   "outputs": [
    {
     "data": {
      "text/html": [
       "<div>\n",
       "<style scoped>\n",
       "    .dataframe tbody tr th:only-of-type {\n",
       "        vertical-align: middle;\n",
       "    }\n",
       "\n",
       "    .dataframe tbody tr th {\n",
       "        vertical-align: top;\n",
       "    }\n",
       "\n",
       "    .dataframe thead th {\n",
       "        text-align: right;\n",
       "    }\n",
       "</style>\n",
       "<table border=\"1\" class=\"dataframe\">\n",
       "  <thead>\n",
       "    <tr style=\"text-align: right;\">\n",
       "      <th></th>\n",
       "      <th>tweet_count</th>\n",
       "      <th>Pct_Chg_tweets</th>\n",
       "    </tr>\n",
       "  </thead>\n",
       "  <tbody>\n",
       "    <tr>\n",
       "      <th>2018-06-29</th>\n",
       "      <td>486</td>\n",
       "      <td>NaN</td>\n",
       "    </tr>\n",
       "    <tr>\n",
       "      <th>2018-06-30</th>\n",
       "      <td>81459</td>\n",
       "      <td>16661.111111</td>\n",
       "    </tr>\n",
       "    <tr>\n",
       "      <th>2018-07-01</th>\n",
       "      <td>100480</td>\n",
       "      <td>23.350397</td>\n",
       "    </tr>\n",
       "    <tr>\n",
       "      <th>2018-07-02</th>\n",
       "      <td>12148</td>\n",
       "      <td>-87.910032</td>\n",
       "    </tr>\n",
       "    <tr>\n",
       "      <th>2018-07-03</th>\n",
       "      <td>19999</td>\n",
       "      <td>64.627922</td>\n",
       "    </tr>\n",
       "  </tbody>\n",
       "</table>\n",
       "</div>"
      ],
      "text/plain": [
       "            tweet_count  Pct_Chg_tweets\n",
       "2018-06-29          486             NaN\n",
       "2018-06-30        81459    16661.111111\n",
       "2018-07-01       100480       23.350397\n",
       "2018-07-02        12148      -87.910032\n",
       "2018-07-03        19999       64.627922"
      ]
     },
     "execution_count": 67,
     "metadata": {},
     "output_type": "execute_result"
    }
   ],
   "source": [
    "tweet_trend['Pct_Chg_tweets'] = tweet_trend['tweet_count'].pct_change()*100\n",
    "tweet_trend.head()"
   ]
  },
  {
   "cell_type": "code",
   "execution_count": 69,
   "metadata": {},
   "outputs": [
    {
     "data": {
      "text/plain": [
       "<matplotlib.axes._subplots.AxesSubplot at 0x20752bbcef0>"
      ]
     },
     "execution_count": 69,
     "metadata": {},
     "output_type": "execute_result"
    },
    {
     "data": {
      "image/png": "[encoded data removed]",
      "text/plain": [
       "<Figure size 864x576 with 1 Axes>"
      ]
     },
     "metadata": {},
     "output_type": "display_data"
    }
   ],
   "source": [
    "import matplotlib.pyplot as plt\n",
    "plt.style.use('seaborn-darkgrid')\n",
    "\n",
    "# line plot of the percentage change in tweet counts\n",
    "tweet_trend['Pct_Chg_tweets'].plot(linestyle = \"--\", figsize = (12,8), rot = 45, \n",
    "                                   color = 'k',\n",
    "                                  linewidth = 1)"
   ]
  },
  {
   "cell_type": "code",
   "execution_count": 25,
   "metadata": {},
   "outputs": [
    {
     "data": {
      "text/html": [
       "<div>\n",
       "<style scoped>\n",
       "    .dataframe tbody tr th:only-of-type {\n",
       "        vertical-align: middle;\n",
       "    }\n",
       "\n",
       "    .dataframe tbody tr th {\n",
       "        vertical-align: top;\n",
       "    }\n",
       "\n",
       "    .dataframe thead th {\n",
       "        text-align: right;\n",
       "    }\n",
       "</style>\n",
       "<table border=\"1\" class=\"dataframe\">\n",
       "  <thead>\n",
       "    <tr style=\"text-align: right;\">\n",
       "      <th></th>\n",
       "      <th>Tweet</th>\n",
       "      <th>UserMentionID</th>\n",
       "      <th>Place</th>\n",
       "      <th>sentiment_compound_polarity</th>\n",
       "      <th>sentiment_type</th>\n",
       "      <th>Followers</th>\n",
       "      <th>Friends</th>\n",
       "      <th>RTs</th>\n",
       "    </tr>\n",
       "  </thead>\n",
       "  <tbody>\n",
       "    <tr>\n",
       "      <th>300375</th>\n",
       "      <td>Thierry are happy that France has won yes yes ...</td>\n",
       "      <td>CNN</td>\n",
       "      <td>Mbale, Uganda</td>\n",
       "      <td>0.9943</td>\n",
       "      <td>POSITIVE</td>\n",
       "      <td>80</td>\n",
       "      <td>21</td>\n",
       "      <td>0</td>\n",
       "    </tr>\n",
       "    <tr>\n",
       "      <th>253839</th>\n",
       "      <td>My dear Enjoy have fun of watching the semi fi...</td>\n",
       "      <td>karlelandler</td>\n",
       "      <td>???</td>\n",
       "      <td>0.9876</td>\n",
       "      <td>POSITIVE</td>\n",
       "      <td>748</td>\n",
       "      <td>1128</td>\n",
       "      <td>0</td>\n",
       "    </tr>\n",
       "    <tr>\n",
       "      <th>281758</th>\n",
       "      <td>We won win the but we are extremely proud of o...</td>\n",
       "      <td>BelRedDevils,FFF,bertodiplo</td>\n",
       "      <td>Hashemite Kingdom of Jordan</td>\n",
       "      <td>0.9861</td>\n",
       "      <td>POSITIVE</td>\n",
       "      <td>1694</td>\n",
       "      <td>244</td>\n",
       "      <td>0</td>\n",
       "    </tr>\n",
       "    <tr>\n",
       "      <th>86851</th>\n",
       "      <td>We came out of the match vs in round at by gre...</td>\n",
       "      <td>DesmondDreckett</td>\n",
       "      <td>Cairo, Egypt; Worldwide</td>\n",
       "      <td>0.9849</td>\n",
       "      <td>POSITIVE</td>\n",
       "      <td>368</td>\n",
       "      <td>324</td>\n",
       "      <td>0</td>\n",
       "    </tr>\n",
       "    <tr>\n",
       "      <th>345440</th>\n",
       "      <td>Big congratulations to team deserved to be win...</td>\n",
       "      <td>HNS_CFF</td>\n",
       "      <td>INDIA</td>\n",
       "      <td>0.9826</td>\n",
       "      <td>POSITIVE</td>\n",
       "      <td>284</td>\n",
       "      <td>1034</td>\n",
       "      <td>0</td>\n",
       "    </tr>\n",
       "    <tr>\n",
       "      <th>333757</th>\n",
       "      <td>YES YES YES YES YES YES YES YES YES YES YES YE...</td>\n",
       "      <td>ITVSport</td>\n",
       "      <td>India</td>\n",
       "      <td>0.9825</td>\n",
       "      <td>POSITIVE</td>\n",
       "      <td>478</td>\n",
       "      <td>120</td>\n",
       "      <td>0</td>\n",
       "    </tr>\n",
       "    <tr>\n",
       "      <th>509389</th>\n",
       "      <td>Congrats for the win France to me are real cha...</td>\n",
       "      <td>HNS_CFF,FIFAWorldCup</td>\n",
       "      <td>0</td>\n",
       "      <td>0.9823</td>\n",
       "      <td>POSITIVE</td>\n",
       "      <td>787</td>\n",
       "      <td>281</td>\n",
       "      <td>0</td>\n",
       "    </tr>\n",
       "    <tr>\n",
       "      <th>93437</th>\n",
       "      <td>Genuine bollocks that pens are lottery All abo...</td>\n",
       "      <td>JPickford1</td>\n",
       "      <td>Melbourne</td>\n",
       "      <td>0.9814</td>\n",
       "      <td>POSITIVE</td>\n",
       "      <td>817</td>\n",
       "      <td>1850</td>\n",
       "      <td>0</td>\n",
       "    </tr>\n",
       "    <tr>\n",
       "      <th>496322</th>\n",
       "      <td>Congratulations to for pulling one of the grea...</td>\n",
       "      <td>FIFAWorldCup</td>\n",
       "      <td>South Africa</td>\n",
       "      <td>0.9814</td>\n",
       "      <td>POSITIVE</td>\n",
       "      <td>213</td>\n",
       "      <td>1838</td>\n",
       "      <td>0</td>\n",
       "    </tr>\n",
       "    <tr>\n",
       "      <th>375780</th>\n",
       "      <td>Great match Disappointed Well bit admit is Cha...</td>\n",
       "      <td>HNS_CFF</td>\n",
       "      <td>Bucharest, Romania</td>\n",
       "      <td>0.9809</td>\n",
       "      <td>POSITIVE</td>\n",
       "      <td>552</td>\n",
       "      <td>1923</td>\n",
       "      <td>0</td>\n",
       "    </tr>\n",
       "  </tbody>\n",
       "</table>\n",
       "</div>"
      ],
      "text/plain": [
       "                                                    Tweet  \\\n",
       "300375  Thierry are happy that France has won yes yes ...   \n",
       "253839  My dear Enjoy have fun of watching the semi fi...   \n",
       "281758  We won win the but we are extremely proud of o...   \n",
       "86851   We came out of the match vs in round at by gre...   \n",
       "345440  Big congratulations to team deserved to be win...   \n",
       "333757  YES YES YES YES YES YES YES YES YES YES YES YE...   \n",
       "509389  Congrats for the win France to me are real cha...   \n",
       "93437   Genuine bollocks that pens are lottery All abo...   \n",
       "496322  Congratulations to for pulling one of the grea...   \n",
       "375780  Great match Disappointed Well bit admit is Cha...   \n",
       "\n",
       "                      UserMentionID                        Place  \\\n",
       "300375                          CNN                Mbale, Uganda   \n",
       "253839                 karlelandler                          ???   \n",
       "281758  BelRedDevils,FFF,bertodiplo  Hashemite Kingdom of Jordan   \n",
       "86851               DesmondDreckett      Cairo, Egypt; Worldwide   \n",
       "345440                      HNS_CFF                        INDIA   \n",
       "333757                     ITVSport                        India   \n",
       "509389         HNS_CFF,FIFAWorldCup                            0   \n",
       "93437                    JPickford1                    Melbourne   \n",
       "496322                 FIFAWorldCup                 South Africa   \n",
       "375780                      HNS_CFF           Bucharest, Romania   \n",
       "\n",
       "        sentiment_compound_polarity sentiment_type  Followers  Friends  RTs  \n",
       "300375                       0.9943       POSITIVE         80       21    0  \n",
       "253839                       0.9876       POSITIVE        748     1128    0  \n",
       "281758                       0.9861       POSITIVE       1694      244    0  \n",
       "86851                        0.9849       POSITIVE        368      324    0  \n",
       "345440                       0.9826       POSITIVE        284     1034    0  \n",
       "333757                       0.9825       POSITIVE        478      120    0  \n",
       "509389                       0.9823       POSITIVE        787      281    0  \n",
       "93437                        0.9814       POSITIVE        817     1850    0  \n",
       "496322                       0.9814       POSITIVE        213     1838    0  \n",
       "375780                       0.9809       POSITIVE        552     1923    0  "
      ]
     },
     "execution_count": 25,
     "metadata": {},
     "output_type": "execute_result"
    }
   ],
   "source": [
    "tweets_filter1 = tweets_filter1.fillna(0).sort_values('sentiment_compound_polarity', ascending=False)\n",
    "tweets_filter1.head(10)"
   ]
  },
  {
   "cell_type": "code",
   "execution_count": 49,
   "metadata": {},
   "outputs": [
    {
     "data": {
      "text/html": [
       "<div>\n",
       "<style scoped>\n",
       "    .dataframe tbody tr th:only-of-type {\n",
       "        vertical-align: middle;\n",
       "    }\n",
       "\n",
       "    .dataframe tbody tr th {\n",
       "        vertical-align: top;\n",
       "    }\n",
       "\n",
       "    .dataframe thead th {\n",
       "        text-align: right;\n",
       "    }\n",
       "</style>\n",
       "<table border=\"1\" class=\"dataframe\">\n",
       "  <thead>\n",
       "    <tr style=\"text-align: right;\">\n",
       "      <th></th>\n",
       "      <th>Tweet</th>\n",
       "      <th>UserMentionID</th>\n",
       "      <th>Place</th>\n",
       "      <th>sentiment_compound_polarity</th>\n",
       "      <th>sentiment_type</th>\n",
       "      <th>Followers</th>\n",
       "      <th>Friends</th>\n",
       "      <th>RTs</th>\n",
       "    </tr>\n",
       "  </thead>\n",
       "  <tbody>\n",
       "    <tr>\n",
       "      <th>128291</th>\n",
       "      <td>just hope that Messi just tries one more time ...</td>\n",
       "      <td>JONALDINHO_XC</td>\n",
       "      <td></td>\n",
       "      <td>-0.9774</td>\n",
       "      <td>NEGATIVE</td>\n",
       "      <td>26</td>\n",
       "      <td>40</td>\n",
       "      <td>0</td>\n",
       "    </tr>\n",
       "    <tr>\n",
       "      <th>236558</th>\n",
       "      <td>My latest Sexual harassment assault and the ha...</td>\n",
       "      <td>Masters_JamesD</td>\n",
       "      <td></td>\n",
       "      <td>-0.9590</td>\n",
       "      <td>NEGATIVE</td>\n",
       "      <td>3</td>\n",
       "      <td>119</td>\n",
       "      <td>301</td>\n",
       "    </tr>\n",
       "    <tr>\n",
       "      <th>340357</th>\n",
       "      <td>Shame Shame Shame Shame if he does not win the...</td>\n",
       "      <td>Omaaar96</td>\n",
       "      <td>EARTH of course   Jeddah KSA</td>\n",
       "      <td>-0.9574</td>\n",
       "      <td>NEGATIVE</td>\n",
       "      <td>160</td>\n",
       "      <td>568</td>\n",
       "      <td>0</td>\n",
       "    </tr>\n",
       "    <tr>\n",
       "      <th>351268</th>\n",
       "      <td>BAD BAD NO MORE CLOSEUPS of pretty WTF you thi...</td>\n",
       "      <td>FIFAWorldCup,neymarjr</td>\n",
       "      <td>Paris old EU</td>\n",
       "      <td>-0.9520</td>\n",
       "      <td>NEGATIVE</td>\n",
       "      <td>2143</td>\n",
       "      <td>4998</td>\n",
       "      <td>0</td>\n",
       "    </tr>\n",
       "    <tr>\n",
       "      <th>160263</th>\n",
       "      <td>did nice match the only one in this cup but no...</td>\n",
       "      <td>Argentina</td>\n",
       "      <td>Brasil</td>\n",
       "      <td>-0.9518</td>\n",
       "      <td>NEGATIVE</td>\n",
       "      <td>439</td>\n",
       "      <td>457</td>\n",
       "      <td>0</td>\n",
       "    </tr>\n",
       "    <tr>\n",
       "      <th>141367</th>\n",
       "      <td>Suarez gets nudged on his back and is lying do...</td>\n",
       "      <td>ETimsNet</td>\n",
       "      <td>0</td>\n",
       "      <td>-0.9506</td>\n",
       "      <td>NEGATIVE</td>\n",
       "      <td>65</td>\n",
       "      <td>188</td>\n",
       "      <td>6</td>\n",
       "    </tr>\n",
       "    <tr>\n",
       "      <th>349881</th>\n",
       "      <td>fuck off ITV and shit interviewers Not one pos...</td>\n",
       "      <td>itvfootball,GarethSouthgate</td>\n",
       "      <td>Olney  England</td>\n",
       "      <td>-0.9493</td>\n",
       "      <td>NEGATIVE</td>\n",
       "      <td>101</td>\n",
       "      <td>446</td>\n",
       "      <td>0</td>\n",
       "    </tr>\n",
       "    <tr>\n",
       "      <th>94271</th>\n",
       "      <td>Sorry but WHAT THE HELL This is NOT how is pla...</td>\n",
       "      <td>Celeb_FC</td>\n",
       "      <td>0</td>\n",
       "      <td>-0.9464</td>\n",
       "      <td>NEGATIVE</td>\n",
       "      <td>348</td>\n",
       "      <td>307</td>\n",
       "      <td>86</td>\n",
       "    </tr>\n",
       "    <tr>\n",
       "      <th>93467</th>\n",
       "      <td>Sorry but WHAT THE HELL This is NOT how is pla...</td>\n",
       "      <td>Celeb_FC</td>\n",
       "      <td>0</td>\n",
       "      <td>-0.9464</td>\n",
       "      <td>NEGATIVE</td>\n",
       "      <td>219</td>\n",
       "      <td>1089</td>\n",
       "      <td>86</td>\n",
       "    </tr>\n",
       "    <tr>\n",
       "      <th>283637</th>\n",
       "      <td>Announcers called it an embarrassment More lik...</td>\n",
       "      <td>ChrisNowinski1,ConcussionLF</td>\n",
       "      <td>Charlotte  NC</td>\n",
       "      <td>-0.9461</td>\n",
       "      <td>NEGATIVE</td>\n",
       "      <td>410</td>\n",
       "      <td>397</td>\n",
       "      <td>0</td>\n",
       "    </tr>\n",
       "  </tbody>\n",
       "</table>\n",
       "</div>"
      ],
      "text/plain": [
       "                                                    Tweet  \\\n",
       "128291  just hope that Messi just tries one more time ...   \n",
       "236558  My latest Sexual harassment assault and the ha...   \n",
       "340357  Shame Shame Shame Shame if he does not win the...   \n",
       "351268  BAD BAD NO MORE CLOSEUPS of pretty WTF you thi...   \n",
       "160263  did nice match the only one in this cup but no...   \n",
       "141367  Suarez gets nudged on his back and is lying do...   \n",
       "349881  fuck off ITV and shit interviewers Not one pos...   \n",
       "94271   Sorry but WHAT THE HELL This is NOT how is pla...   \n",
       "93467   Sorry but WHAT THE HELL This is NOT how is pla...   \n",
       "283637  Announcers called it an embarrassment More lik...   \n",
       "\n",
       "                      UserMentionID                         Place  \\\n",
       "128291                JONALDINHO_XC                                 \n",
       "236558               Masters_JamesD                                 \n",
       "340357                     Omaaar96  EARTH of course   Jeddah KSA   \n",
       "351268        FIFAWorldCup,neymarjr                  Paris old EU   \n",
       "160263                    Argentina                        Brasil   \n",
       "141367                     ETimsNet                             0   \n",
       "349881  itvfootball,GarethSouthgate                Olney  England   \n",
       "94271                      Celeb_FC                             0   \n",
       "93467                      Celeb_FC                             0   \n",
       "283637  ChrisNowinski1,ConcussionLF                 Charlotte  NC   \n",
       "\n",
       "        sentiment_compound_polarity sentiment_type  Followers  Friends  RTs  \n",
       "128291                      -0.9774       NEGATIVE         26       40    0  \n",
       "236558                      -0.9590       NEGATIVE          3      119  301  \n",
       "340357                      -0.9574       NEGATIVE        160      568    0  \n",
       "351268                      -0.9520       NEGATIVE       2143     4998    0  \n",
       "160263                      -0.9518       NEGATIVE        439      457    0  \n",
       "141367                      -0.9506       NEGATIVE         65      188    6  \n",
       "349881                      -0.9493       NEGATIVE        101      446    0  \n",
       "94271                       -0.9464       NEGATIVE        348      307   86  \n",
       "93467                       -0.9464       NEGATIVE        219     1089   86  \n",
       "283637                      -0.9461       NEGATIVE        410      397    0  "
      ]
     },
     "execution_count": 49,
     "metadata": {},
     "output_type": "execute_result"
    }
   ],
   "source": [
    "tweets_filter1 = tweets_filter1.fillna(0).sort_values('sentiment_compound_polarity', ascending=True)\n",
    "tweets_filter1.head(10)"
   ]
  },
  {
   "cell_type": "code",
   "execution_count": 68,
   "metadata": {},
   "outputs": [
    {
     "ename": "ModuleNotFoundError",
     "evalue": "No module named 'ggplot'",
     "output_type": "error",
     "traceback": [
      "\u001b[1;31m---------------------------------------------------------------------------\u001b[0m",
      "\u001b[1;31mModuleNotFoundError\u001b[0m                       Traceback (most recent call last)",
      "\u001b[1;32m<ipython-input-68-41e2a4a203a6>\u001b[0m in \u001b[0;36m<module>\u001b[1;34m()\u001b[0m\n\u001b[1;32m----> 1\u001b[1;33m \u001b[1;32mimport\u001b[0m \u001b[0mggplot\u001b[0m\u001b[1;33m\u001b[0m\u001b[0m\n\u001b[0m\u001b[0;32m      2\u001b[0m \u001b[1;32mfrom\u001b[0m \u001b[0mggplot\u001b[0m \u001b[1;32mimport\u001b[0m \u001b[1;33m*\u001b[0m\u001b[1;33m\u001b[0m\u001b[0m\n\u001b[0;32m      3\u001b[0m \u001b[0mget_ipython\u001b[0m\u001b[1;33m(\u001b[0m\u001b[1;33m)\u001b[0m\u001b[1;33m.\u001b[0m\u001b[0mrun_line_magic\u001b[0m\u001b[1;33m(\u001b[0m\u001b[1;34m'matplotlib'\u001b[0m\u001b[1;33m,\u001b[0m \u001b[1;34m'inline'\u001b[0m\u001b[1;33m)\u001b[0m\u001b[1;33m\u001b[0m\u001b[0m\n\u001b[0;32m      4\u001b[0m \u001b[1;32mimport\u001b[0m \u001b[0mmatplotlib\u001b[0m\u001b[1;33m.\u001b[0m\u001b[0mpyplot\u001b[0m \u001b[1;32mas\u001b[0m \u001b[0mplt\u001b[0m\u001b[1;33m\u001b[0m\u001b[0m\n\u001b[0;32m      5\u001b[0m \u001b[0mplt\u001b[0m\u001b[1;33m.\u001b[0m\u001b[0mrcParams\u001b[0m\u001b[1;33m[\u001b[0m\u001b[1;34m'figure.figsize'\u001b[0m\u001b[1;33m]\u001b[0m \u001b[1;33m=\u001b[0m \u001b[1;33m(\u001b[0m\u001b[1;36m6.0\u001b[0m\u001b[1;33m,\u001b[0m \u001b[1;36m6.0\u001b[0m\u001b[1;33m)\u001b[0m\u001b[1;33m\u001b[0m\u001b[0m\n",
      "\u001b[1;31mModuleNotFoundError\u001b[0m: No module named 'ggplot'"
     ]
    }
   ],
   "source": [
    "import ggplot\n",
    "from ggplot import *\n",
    "%matplotlib inline\n",
    "import matplotlib.pyplot as plt\n",
    "plt.rcParams['figure.figsize'] = (6.0, 6.0)\n",
    "\n",
    "tweets['hour'] = pd.DatetimeIndex(tweets['Date']).hour\n",
    "tweets['date'] = pd.DatetimeIndex(tweets['Date']).date\n",
    "tweets['minute'] = pd.DatetimeIndex(tweets['Date']).minute\n",
    "df=(tweets.groupby('hour',as_index=False).sentiment_compound_polarity.mean())\n",
    "print(ggplot(aes(x='hour',y='sentiment_compound_polarity'),data=df)+geom_line())"
   ]
  },
  {
   "cell_type": "markdown",
   "metadata": {},
   "source": [
    "# we could run this test on a specific twitter handle or hashtag. (How have people tweeted about the top players in the league over time?)\n",
    "# May be better to look these people up by their twitter handle. How can I filter the df to show mention names with the most negative tweets/ which \"places\" have most negative twitter comments associated with them?"
   ]
  },
  {
   "cell_type": "code",
   "execution_count": 53,
   "metadata": {},
   "outputs": [],
   "source": [
    "tweets_names = tweets[pd.notnull(tweets['UserMentionNames'])]"
   ]
  },
  {
   "cell_type": "code",
   "execution_count": 71,
   "metadata": {},
   "outputs": [
    {
     "data": {
      "text/plain": [
       "<matplotlib.axes._subplots.AxesSubplot at 0x1723d3b1be0>"
      ]
     },
     "execution_count": 71,
     "metadata": {},
     "output_type": "execute_result"
    },
    {
     "data": {
      "image/png": "[encoded data removed]",
      "text/plain": [
       "<Figure size 432x288 with 1 Axes>"
      ]
     },
     "metadata": {
      "needs_background": "light"
     },
     "output_type": "display_data"
    }
   ],
   "source": [
    "df=tweets_names[tweets_names['UserMentionNames'].str.contains(\"Ashley Young\")]\n",
    "df.sentiment_type.value_counts().plot(kind='bar',title=\"sentiment analysis\")"
   ]
  },
  {
   "cell_type": "code",
   "execution_count": 72,
   "metadata": {},
   "outputs": [
    {
     "data": {
      "text/plain": [
       "<matplotlib.axes._subplots.AxesSubplot at 0x172510d5908>"
      ]
     },
     "execution_count": 72,
     "metadata": {},
     "output_type": "execute_result"
    },
    {
     "data": {
      "image/png": "[encoded data removed]",
      "text/plain": [
       "<Figure size 432x288 with 1 Axes>"
      ]
     },
     "metadata": {
      "needs_background": "light"
     },
     "output_type": "display_data"
    }
   ],
   "source": [
    "df=tweets_names[tweets_names['UserMentionNames'].str.contains(\"Cristiano Ronaldo\")]\n",
    "df.sentiment_type.value_counts().plot(kind='bar',title=\"sentiment analysis\")"
   ]
  },
  {
   "cell_type": "code",
   "execution_count": 90,
   "metadata": {},
   "outputs": [],
   "source": [
    "#df=tweets_names[tweets_names['UserMentionNames'].str.contains(\"Diego Costa\")]\n",
    "#df.sentiment_type.value_counts().plot(kind='bar',title=\"sentiment analysis\")"
   ]
  },
  {
   "cell_type": "markdown",
   "metadata": {},
   "source": [
    "# Sentiment by specific twitter handle"
   ]
  },
  {
   "cell_type": "code",
   "execution_count": 75,
   "metadata": {},
   "outputs": [
    {
     "data": {
      "text/plain": [
       "<matplotlib.axes._subplots.AxesSubplot at 0x1725066aac8>"
      ]
     },
     "execution_count": 75,
     "metadata": {},
     "output_type": "execute_result"
    },
    {
     "data": {
      "image/png": "[encoded data removed]",
      "text/plain": [
       "<Figure size 432x288 with 1 Axes>"
      ]
     },
     "metadata": {
      "needs_background": "light"
     },
     "output_type": "display_data"
    }
   ],
   "source": [
    "df=tweets_names[tweets_names['UserMentionNames'].str.contains(\"Lionel Messi\")]\n",
    "df.sentiment_type.value_counts().plot(kind='bar',title=\"sentiment analysis\")"
   ]
  },
  {
   "cell_type": "code",
   "execution_count": 76,
   "metadata": {},
   "outputs": [],
   "source": [
    "tweet_handles = tweets[pd.notnull(tweets['UserMentionID'])]"
   ]
  },
  {
   "cell_type": "code",
   "execution_count": 78,
   "metadata": {},
   "outputs": [
    {
     "data": {
      "text/plain": [
       "<matplotlib.axes._subplots.AxesSubplot at 0x1725089c6d8>"
      ]
     },
     "execution_count": 78,
     "metadata": {},
     "output_type": "execute_result"
    },
    {
     "data": {
      "image/png": "[encoded data removed]",
      "text/plain": [
       "<Figure size 432x288 with 1 Axes>"
      ]
     },
     "metadata": {
      "needs_background": "light"
     },
     "output_type": "display_data"
    }
   ],
   "source": [
    "#@wearemessi\n",
    "df=tweet_handles[tweet_handles['UserMentionID'].str.contains(\"WeAreMessi\")]\n",
    "df.sentiment_type.value_counts().plot(kind='bar',title=\"sentiment analysis\")"
   ]
  },
  {
   "cell_type": "code",
   "execution_count": 91,
   "metadata": {},
   "outputs": [
    {
     "data": {
      "text/plain": [
       "<matplotlib.axes._subplots.AxesSubplot at 0x1724a6085f8>"
      ]
     },
     "execution_count": 91,
     "metadata": {},
     "output_type": "execute_result"
    },
    {
     "data": {
      "image/png": "[encoded data removed]",
      "text/plain": [
       "<Figure size 432x288 with 1 Axes>"
      ]
     },
     "metadata": {
      "needs_background": "light"
     },
     "output_type": "display_data"
    }
   ],
   "source": [
    "df=tweet_handles[tweet_handles['UserMentionID'].str.contains(\"realDonaldTrump\")]\n",
    "df.sentiment_type.value_counts().plot(kind='bar',title=\"sentiment analysis\")"
   ]
  },
  {
   "cell_type": "markdown",
   "metadata": {},
   "source": [
    "# Sentiment by specific region"
   ]
  },
  {
   "cell_type": "code",
   "execution_count": 81,
   "metadata": {},
   "outputs": [],
   "source": [
    "tweet_places = tweets[pd.notnull(tweets['Place'])]\n"
   ]
  },
  {
   "cell_type": "code",
   "execution_count": 86,
   "metadata": {},
   "outputs": [
    {
     "data": {
      "text/plain": [
       "<matplotlib.axes._subplots.AxesSubplot at 0x17249e74f98>"
      ]
     },
     "execution_count": 86,
     "metadata": {},
     "output_type": "execute_result"
    },
    {
     "data": {
      "image/png": "[encoded data removed]",
      "text/plain": [
       "<Figure size 432x288 with 1 Axes>"
      ]
     },
     "metadata": {
      "needs_background": "light"
     },
     "output_type": "display_data"
    }
   ],
   "source": [
    "#@wearemessi\n",
    "df=tweet_places[tweet_places['Place'].str.contains(\"Madrid\")]\n",
    "df.sentiment_type.value_counts().plot(kind='bar',title=\"sentiment analysis\")"
   ]
  },
  {
   "cell_type": "code",
   "execution_count": 87,
   "metadata": {},
   "outputs": [
    {
     "data": {
      "text/plain": [
       "<matplotlib.axes._subplots.AxesSubplot at 0x1725da91048>"
      ]
     },
     "execution_count": 87,
     "metadata": {},
     "output_type": "execute_result"
    },
    {
     "data": {
      "image/png": "[encoded data removed]",
      "text/plain": [
       "<Figure size 432x288 with 1 Axes>"
      ]
     },
     "metadata": {
      "needs_background": "light"
     },
     "output_type": "display_data"
    }
   ],
   "source": [
    "#@wearemessi\n",
    "df=tweet_places[tweet_places['Place'].str.contains(\"Accra\")]\n",
    "df.sentiment_type.value_counts().plot(kind='bar',title=\"sentiment analysis\")"
   ]
  },
  {
   "cell_type": "code",
   "execution_count": null,
   "metadata": {},
   "outputs": [],
   "source": []
  },
  {
   "cell_type": "code",
   "execution_count": null,
   "metadata": {},
   "outputs": [],
   "source": []
  },
  {
   "cell_type": "code",
   "execution_count": null,
   "metadata": {},
   "outputs": [],
   "source": []
  },
  {
   "cell_type": "code",
   "execution_count": null,
   "metadata": {},
   "outputs": [],
   "source": [
    "from nltk.probability import ConditionalFreqDist\n",
    "from nltk.tokenize import word_tokenize\n",
    "df = tweets[pd.notnull(tweets['Place'])]\n",
    "\n",
    "cfdist = ConditionalFreqDist()\n",
    "for word in word_tokenize(df):\n",
    "    condition = len(word)\n",
    "    cfdist[condition][word] += 1"
   ]
  },
  {
   "cell_type": "code",
   "execution_count": null,
   "metadata": {},
   "outputs": [],
   "source": []
  }
 ],
 "metadata": {
  "kernelspec": {
   "display_name": "Python 3",
   "language": "python",
   "name": "python3"
  },
  "language_info": {
   "codemirror_mode": {
    "name": "ipython",
    "version": 3
   },
   "file_extension": ".py",
   "mimetype": "text/x-python",
   "name": "python",
   "nbconvert_exporter": "python",
   "pygments_lexer": "ipython3",
   "version": "3.6.6"
  }
 },
 "nbformat": 4,
 "nbformat_minor": 2
}
